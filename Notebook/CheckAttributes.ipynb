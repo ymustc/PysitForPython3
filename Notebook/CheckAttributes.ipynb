{
 "cells": [
  {
   "cell_type": "markdown",
   "metadata": {},
   "source": [
    "## Check Atrributes of some basic objects in PySIT"
   ]
  },
  {
   "cell_type": "code",
   "execution_count": 4,
   "metadata": {},
   "outputs": [],
   "source": [
    "%matplotlib inline"
   ]
  },
  {
   "cell_type": "markdown",
   "metadata": {},
   "source": [
    "Import necessary modules:"
   ]
  },
  {
   "cell_type": "code",
   "execution_count": 5,
   "metadata": {},
   "outputs": [],
   "source": [
    "import time\n",
    "import copy\n",
    "\n",
    "import numpy as np\n",
    "import matplotlib.pyplot as plt\n",
    "import math\n",
    "import os\n",
    "from shutil import copy2\n",
    "from mpl_toolkits.axes_grid1 import make_axes_locatable\n",
    "\n",
    "import sys\n",
    "import scipy.io as sio\n",
    "\n",
    "from pysit import *\n",
    "from pysit.gallery import horizontal_reflector\n",
    "from pysit.util.io import *\n",
    "\n",
    "from pysit.util.parallel import *"
   ]
  },
  {
   "cell_type": "markdown",
   "metadata": {},
   "source": [
    "### Define the physical domain, computational mesh and velocity models ###\n",
    "\n",
    "1. Define perfectly matched layer(PML) boundaries in x and z directions with width of ``0.1 km`` and PML coefficient of ``1000`` by\n",
    "\n",
    "    ``pmlx = PML(0.1, 1000)``\n",
    "\n",
    "    ``pmlz = PML(0.1, 1000)``\n",
    "    \n",
    "\n",
    "    For more information about the PML object, we refer users to check ``/pysit/core/domain.py`` by\n",
    "\n",
    "2. Define a 2D rectangular domain with the width of ``2 km`` and depth of ``1 km``. \n",
    "    \n",
    "    ``x_config = (0.0, 2.0, pmlx, pmlx)`` (The physical domain of x direction starts at 0.0 km and ends at 2.0 km.)\n",
    "    \n",
    "    ``z_config = (0.0, 1.0, pmlz, pmlz)`` (The physical domain of z direction starts at 0.0 km and ends at 1.0 km.)\n",
    "    \n",
    "    ``d = RectangularDomain(x_config, z_config)``\n",
    "    \n",
    "    For more information about the RectangularDomain, we refer users to check ``/pysit/core/domain.py``.\n",
    "\n",
    "3. Define the computational Cartesian mesh with ``201`` grids in ``x`` direction and ``101`` grids in ``z`` direction by\n",
    "    \n",
    "    ``m = CartesianMesh(d, 201, 101)`` (The computational mesh ``m`` meets the physical domain ``d``)\n",
    "    \n",
    "    For more information about the CartesianMesh object, we refer users to check ``/pysit/core/mesh.py``.\n",
    "    \n",
    "4. Generate the true velocity model and initial model for a Horizontal reflector model by\n",
    "\n",
    "    ``C, C0, m, d = horizontal_reflector(m)``\n",
    "    \n",
    "    The output ``C`` is the true velocity model and ``C0`` is the initial model.\n",
    "    \n",
    "    For more information about the horizontal_reflecotr object, we refer users to check ``/pysit/gallery/horizontal_reflector.py``.\n",
    "    \n"
   ]
  },
  {
   "cell_type": "code",
   "execution_count": 6,
   "metadata": {},
   "outputs": [
    {
     "data": {
      "text/plain": [
       "Text(0, 0.5, 'Z [km]')"
      ]
     },
     "execution_count": 6,
     "metadata": {},
     "output_type": "execute_result"
    },
    {
     "data": {
      "image/png": "[encoded data removed]",
      "text/plain": [
       "<Figure size 1440x288 with 4 Axes>"
      ]
     },
     "metadata": {
      "needs_background": "light"
     },
     "output_type": "display_data"
    }
   ],
   "source": [
    "    pmlx = PML(0.1, 1000)\n",
    "    pmlz = PML(0.1, 1000)\n",
    "\n",
    "    x_config = (0.0, 2.0, pmlx, pmlx)\n",
    "    z_config = (0.0, 1.0, pmlz, pmlz)\n",
    "\n",
    "    d = RectangularDomain(x_config, z_config)\n",
    "\n",
    "    m = CartesianMesh(d, 201, 101)\n",
    "    \n",
    "    C, C0, m, d = horizontal_reflector(m)\n",
    "    \n",
    "    clim = C.min(),C.max()\n",
    "    plt.figure(figsize=(20,4))\n",
    "    plt.subplot(1,2,1)\n",
    "    vis.plot(C0, m, clim=clim)\n",
    "    plt.title(r'Initial Model of $v$')\n",
    "    plt.colorbar()\n",
    "    plt.xlabel('X [km]')\n",
    "    plt.ylabel('Z [km]')\n",
    "    plt.subplot(1,2,2)\n",
    "    vis.plot(C, m, clim=clim)\n",
    "    plt.title(r\"True Model of $v$\")\n",
    "    plt.colorbar()\n",
    "    plt.xlabel('X [km]')\n",
    "    plt.ylabel('Z [km]')"
   ]
  },
  {
   "cell_type": "markdown",
   "metadata": {},
   "source": [
    "## Attributes of ``m``\n",
    "The mesh object ``m`` contains all the information about the computational mesh. We can check its attribute to extract the information that we are interested. We can list all attributes by the built-in function ``__dict__``. For more information, users can check the file ``/pysit/core/mesh.py`` .For example:"
   ]
  },
  {
   "cell_type": "code",
   "execution_count": 7,
   "metadata": {},
   "outputs": [
    {
     "name": "stdout",
     "output_type": "stream",
     "text": [
      "{'domain': <pysit.core.domain.RectangularDomain object at 0x7f7117ced780>, 'dim': 2, 'parameters': {0: {'n': 201, 'delta': 0.01, 'lbc': <pysit.core.mesh.StructuredPML object at 0x7f7117ced7f0>, 'rbc': <pysit.core.mesh.StructuredPML object at 0x7f7117ced828>}, 'x': {'n': 201, 'delta': 0.01, 'lbc': <pysit.core.mesh.StructuredPML object at 0x7f7117ced7f0>, 'rbc': <pysit.core.mesh.StructuredPML object at 0x7f7117ced828>}, 1: {'n': 101, 'delta': 0.01, 'lbc': <pysit.core.mesh.StructuredPML object at 0x7f7117ced860>, 'rbc': <pysit.core.mesh.StructuredPML object at 0x7f7117ced898>}, 'z': {'n': 101, 'delta': 0.01, 'lbc': <pysit.core.mesh.StructuredPML object at 0x7f7117ced860>, 'rbc': <pysit.core.mesh.StructuredPML object at 0x7f7117ced898>}}, 'x': {'n': 201, 'delta': 0.01, 'lbc': <pysit.core.mesh.StructuredPML object at 0x7f7117ced7f0>, 'rbc': <pysit.core.mesh.StructuredPML object at 0x7f7117ced828>}, 'z': {'n': 101, 'delta': 0.01, 'lbc': <pysit.core.mesh.StructuredPML object at 0x7f7117ced860>, 'rbc': <pysit.core.mesh.StructuredPML object at 0x7f7117ced898>}, '_shapes': {(False, True): [201, 101], (False, False): (20301, 1), (True, True): [221, 121], (True, False): (26741, 1)}, '_dofs': {False: 20301, True: 26741}, '_spgrid': None, '_spgrid_bc': None}\n"
     ]
    }
   ],
   "source": [
    "print(m.__dict__)"
   ]
  },
  {
   "cell_type": "markdown",
   "metadata": {},
   "source": [
    "Useful information:\n",
    "\n",
    "*shape of the model parameters*\n",
    "\n",
    "There are four sets of the shape indicating differnt situation:\n",
    "\n",
    "``(False, True)`` – False: PML not included; True: use the original shape of the model\n",
    "\n",
    "``(False, False)`` - False: PML not included; False: do not use the original shape of the model\n",
    "\n",
    "``(True, True)`` – True: PML included; True: use the original shape of the model\n",
    "\n",
    "``(True, False)`` – True: PML included; False: do not use the original shape of the model"
   ]
  },
  {
   "cell_type": "code",
   "execution_count": 18,
   "metadata": {},
   "outputs": [
    {
     "name": "stdout",
     "output_type": "stream",
     "text": [
      "{(False, True): [201, 101], (False, False): (20301, 1), (True, True): [221, 121], (True, False): (26741, 1)}\n"
     ]
    }
   ],
   "source": [
    "print(m._shapes)"
   ]
  },
  {
   "cell_type": "markdown",
   "metadata": {},
   "source": [
    "Dimension of the model parameters"
   ]
  },
  {
   "cell_type": "code",
   "execution_count": 20,
   "metadata": {},
   "outputs": [
    {
     "name": "stdout",
     "output_type": "stream",
     "text": [
      "2\n"
     ]
    }
   ],
   "source": [
    "print(m.dim)"
   ]
  },
  {
   "cell_type": "markdown",
   "metadata": {},
   "source": [
    "Information of grid spacing and grid size in x and z directions"
   ]
  },
  {
   "cell_type": "code",
   "execution_count": 21,
   "metadata": {},
   "outputs": [
    {
     "name": "stdout",
     "output_type": "stream",
     "text": [
      "{'n': 201, 'delta': 0.01, 'lbc': <pysit.core.mesh.StructuredPML object at 0x7f7117ced7f0>, 'rbc': <pysit.core.mesh.StructuredPML object at 0x7f7117ced828>}\n",
      "{'n': 101, 'delta': 0.01, 'lbc': <pysit.core.mesh.StructuredPML object at 0x7f7117ced860>, 'rbc': <pysit.core.mesh.StructuredPML object at 0x7f7117ced898>}\n"
     ]
    }
   ],
   "source": [
    "print(m.x)\n",
    "print(m.z)"
   ]
  },
  {
   "cell_type": "markdown",
   "metadata": {},
   "source": [
    "Number of points of the model parameters \n",
    "\n",
    "False - do not include PML\n",
    "\n",
    "True - include PML"
   ]
  },
  {
   "cell_type": "code",
   "execution_count": 26,
   "metadata": {},
   "outputs": [
    {
     "name": "stdout",
     "output_type": "stream",
     "text": [
      "{False: 20301, True: 26741}\n"
     ]
    }
   ],
   "source": [
    "print(m._dofs)"
   ]
  },
  {
   "cell_type": "markdown",
   "metadata": {},
   "source": [
    "### Set up shots\n",
    "1. Set up the shots object by:\n",
    "\n",
    "    ``shots = equispaced_acquisition(m, RickerWavelet(10.0), sources=Nshots, source_depth=zpos,source_kwargs={},receivers='max',receiver_depth=zpos,receiver_kwargs={})``\n",
    "\n",
    "    ``equispaced_acquisition`` - create a shots object with equially spaced acquisition\n",
    "\n",
    "    ``m`` - computational mesh\n",
    "\n",
    "    ``RickerWavelet(10.0)`` - a Ricker wavelet centered at ``10 Hz``\n",
    "\n",
    "    ``sources`` - number of sources\n",
    "\n",
    "    ``source_depth`` - the depth of sources\n",
    "\n",
    "    ``receivers`` - number of receivers, if set to be ``max``, then the number of receivers equals to the number of grids in x direction.\n",
    "\n",
    "    ``receiver_depth`` - the depth of receivers\n",
    "    \n",
    "    For more information about the ``equispaced_acquisition`` object, we refer the users to check ``/pysit/core/acquisition.py``. \n",
    "    \n",
    "2. Set up the range of recording time by;\n",
    "\n",
    "    ``trange = (0.0,2.0)``.\n",
    "    \n",
    "\n",
    "\n",
    "                                   \n",
    "\n"
   ]
  },
  {
   "cell_type": "code",
   "execution_count": 8,
   "metadata": {},
   "outputs": [
    {
     "name": "stderr",
     "output_type": "stream",
     "text": [
      "/math/home/fangzl/.local/lib/python3.6/site-packages/scipy/sparse/compressed.py:130: VisibleDeprecationWarning: `rank` is deprecated; use the `ndim` attribute or function instead. To find the rank of a matrix see `numpy.linalg.matrix_rank`.\n",
      "  if np.rank(self.data) != 1 or np.rank(self.indices) != 1 or np.rank(self.indptr) != 1:\n",
      "/math/home/fangzl/.local/lib/python3.6/site-packages/scipy/sparse/construct.py:502: VisibleDeprecationWarning: `rank` is deprecated; use the `ndim` attribute or function instead. To find the rank of a matrix see `numpy.linalg.matrix_rank`.\n",
      "  if np.rank(blocks) != 2:\n",
      "/math/home/fangzl/.local/lib/python3.6/site-packages/scipy/sparse/coo.py:200: VisibleDeprecationWarning: `rank` is deprecated; use the `ndim` attribute or function instead. To find the rank of a matrix see `numpy.linalg.matrix_rank`.\n",
      "  if np.rank(self.data) != 1 or np.rank(self.row) != 1 or np.rank(self.col) != 1:\n"
     ]
    },
    {
     "name": "stdout",
     "output_type": "stream",
     "text": [
      "<class 'float'>\n",
      "1.0\n"
     ]
    }
   ],
   "source": [
    "# Set up shots\n",
    "    zmin = d.z.lbound\n",
    "    zmax = d.z.rbound\n",
    "    zpos = zmin + (1./10.)*zmax\n",
    "\n",
    "    Nshots = 1\n",
    "\n",
    "    shots = equispaced_acquisition(m,\n",
    "                                   RickerWavelet(10.0),\n",
    "                                   sources=Nshots,\n",
    "                                   source_depth=zpos,\n",
    "                                   source_kwargs={},\n",
    "                                   receivers='max',\n",
    "                                   receiver_depth=zpos,\n",
    "                                   receiver_kwargs={}\n",
    "                                   )\n",
    "    \n",
    "    shots_freq = copy.deepcopy(shots)\n",
    "\n",
    "\n",
    "    # Define and configure the wave solver\n",
    "    trange = (0.0,2.0)"
   ]
  },
  {
   "cell_type": "markdown",
   "metadata": {},
   "source": [
    "### Define the wave-equation solver and the computational model object, and generate time-domain data \n",
    "\n",
    "1. In this example, we use the time-domain constant density acoustic wave as our target wave equation. We set up our wave equation solver by:\n",
    "\n",
    "    ``solver = ConstantDensityAcousticWave(m, spatial_accuracy_order=2, trange=trange, kernel_implementation='cpp')``\n",
    "                                     \n",
    "    ``m`` - the computational mesh\n",
    "\n",
    "    ``spatial_accuracy_order`` - the spatial accuray order for the numerical solver. Users can select one of the four values ``2, 4, 6, 8``. \n",
    "\n",
    "    ``trange`` - the range of the recording time\n",
    "\n",
    "    ``kernel_implementattion`` - the implementation of the stencil kernel. When set it to be 'cpp', we use the stencil implemented in the language of ``C++``. \n",
    "    \n",
    "    For more information about the ``ConstantDensityAcousticWave`` object, we refer the users to check ``/pysit/solvers/wave_factory.py``\n",
    "    \n",
    "2. Create the velocity model object for the wave-quation solver by:\n",
    "\n",
    "    ``base_model = solver.ModelParameters(m,{'C': C})``\n",
    "    \n",
    "    The model object ``base_model`` contains the information of the computational mesh and the velocity model ``C``.\n",
    "    \n",
    "3. Generate the time-domain data by:\n",
    "\n",
    "    ``generate_seismic_data(shots, solver, base_model)``\n",
    "    \n",
    "    The generated data are stored in the object ``shots``. In order to check the data of the $i^{\\text{th}}$ shot, you may need to use the command:\n",
    "    \n",
    "    ``data = shots[i].receivers.data``\n",
    "    \n",
    "    For more information about the ``generate_seismic_data`` function, we refer the users to check ``/pysit/modeling/data_modeling.py``."
   ]
  },
  {
   "cell_type": "code",
   "execution_count": 9,
   "metadata": {},
   "outputs": [
    {
     "name": "stderr",
     "output_type": "stream",
     "text": [
      "/math/home/fangzl/Project/PysitConvert/PysitForPython3/pysit/core/mesh.py:436: FutureWarning: Using a non-tuple sequence for multidimensional indexing is deprecated; use `arr[tuple(seq)]` instead of `arr[seq]`. In the future this will be interpreted as an array index, `arr[np.array(seq)]`, which will result either in an error or a different result.\n",
      "  out_array = in_array.reshape(sh_grid)[sl]\n",
      "/math/home/fangzl/Project/PysitConvert/PysitForPython3/pysit/core/mesh.py:526: FutureWarning: Using a non-tuple sequence for multidimensional indexing is deprecated; use `arr[tuple(seq)]` instead of `arr[seq]`. In the future this will be interpreted as an array index, `arr[np.array(seq)]`, which will result either in an error or a different result.\n",
      "  out_array[sl] = in_array.reshape(sh_in_grid)\n"
     ]
    }
   ],
   "source": [
    "    solver = ConstantDensityAcousticWave(m,\n",
    "                                         spatial_accuracy_order=2,\n",
    "                                         trange=trange,\n",
    "                                         kernel_implementation='cpp')\n",
    "    \n",
    "    base_model = solver.ModelParameters(m,{'C': C})\n",
    "    \n",
    "    generate_seismic_data(shots, solver, base_model)\n",
    "    \n",
    "    data = shots[0].receivers.data\n",
    "    \n",
    "    t_smp = np.linspace(trange[0], trange[1], data.shape[0])\n",
    "    "
   ]
  },
  {
   "cell_type": "code",
   "execution_count": 10,
   "metadata": {},
   "outputs": [
    {
     "data": {
      "text/plain": [
       "<matplotlib.colorbar.Colorbar at 0x7f7114167f60>"
      ]
     },
     "execution_count": 10,
     "metadata": {},
     "output_type": "execute_result"
    },
    {
     "data": {
      "image/png": "[encoded data removed]",
      "text/plain": [
       "<Figure size 432x288 with 2 Axes>"
      ]
     },
     "metadata": {
      "needs_background": "light"
     },
     "output_type": "display_data"
    }
   ],
   "source": [
    "    fig=plt.figure()\n",
    "    im1=plt.imshow(data, interpolation='nearest', aspect='auto', cmap='seismic', clim =[-.1,.1],\n",
    "              extent=[0.0, 2.0, t_smp[-1], 0.0])\n",
    "    plt.xlabel('Receivers [km]')\n",
    "    plt.ylabel('Time [s]')\n",
    "    plt.colorbar()\n",
    "    "
   ]
  },
  {
   "cell_type": "markdown",
   "metadata": {},
   "source": [
    "## Attributes of shots\n",
    "\n",
    "Shots is a list of shot objects. To check the attribute of a shot, we need to specify the shot index. Let us first have a look at a list of the attributes of a shot object."
   ]
  },
  {
   "cell_type": "code",
   "execution_count": 27,
   "metadata": {},
   "outputs": [
    {
     "name": "stdout",
     "output_type": "stream",
     "text": [
      "['__class__', '__delattr__', '__dict__', '__dir__', '__doc__', '__eq__', '__format__', '__ge__', '__getattribute__', '__gt__', '__hash__', '__init__', '__init_subclass__', '__le__', '__lt__', '__module__', '__ne__', '__new__', '__reduce__', '__reduce_ex__', '__repr__', '__setattr__', '__sizeof__', '__slotnames__', '__str__', '__subclasshook__', '__weakref__', 'background_data', 'compute_data_dft', 'dt', 'gather', 'initialize', 'receivers', 'reset_time_series', 'serialize_dict', 'sources', 'trange', 'unserialize_dict']\n"
     ]
    }
   ],
   "source": [
    "print(dir(shots[0]))"
   ]
  },
  {
   "cell_type": "markdown",
   "metadata": {},
   "source": [
    "The sampling time interval is stored in ``dt``:"
   ]
  },
  {
   "cell_type": "code",
   "execution_count": 28,
   "metadata": {},
   "outputs": [
    {
     "name": "stdout",
     "output_type": "stream",
     "text": [
      "0.0007038646637525304\n"
     ]
    }
   ],
   "source": [
    "print(shots[0].dt)"
   ]
  },
  {
   "cell_type": "markdown",
   "metadata": {},
   "source": [
    "The recording time range is stored in ``trange``:"
   ]
  },
  {
   "cell_type": "code",
   "execution_count": 29,
   "metadata": {},
   "outputs": [
    {
     "name": "stdout",
     "output_type": "stream",
     "text": [
      "(0.0, 2.0)\n"
     ]
    }
   ],
   "source": [
    "print(shots[0].trange)"
   ]
  },
  {
   "cell_type": "markdown",
   "metadata": {},
   "source": [
    "The information of the source is stored in ``sources``"
   ]
  },
  {
   "cell_type": "code",
   "execution_count": 31,
   "metadata": {},
   "outputs": [
    {
     "name": "stdout",
     "output_type": "stream",
     "text": [
      "['__class__', '__delattr__', '__dict__', '__dir__', '__doc__', '__eq__', '__format__', '__ge__', '__getattribute__', '__gt__', '__hash__', '__init__', '__init_subclass__', '__le__', '__lt__', '__module__', '__ne__', '__new__', '__reduce__', '__reduce_ex__', '__repr__', '__setattr__', '__sizeof__', '__slotnames__', '__str__', '__subclasshook__', '__weakref__', '_max_deltas', '_prod_deltas', '_sample_interp_method', '_sampling_operator_base', 'adjoint_sampling_operator', 'approximation', 'approximation_deviations', 'approximation_width', 'deltas', 'domain', 'f', 'get_source_count', 'intensity', 'mesh', 'position', 'reset_time_series', 'sampling_operator', 'serialize_dict', 'set_shot', 'shot', 'source_count', 'unserialize_dict', 'w']\n"
     ]
    }
   ],
   "source": [
    "print(dir(shots[0].sources))"
   ]
  },
  {
   "cell_type": "markdown",
   "metadata": {},
   "source": [
    "The position of the source is stored in 'position'"
   ]
  },
  {
   "cell_type": "code",
   "execution_count": 33,
   "metadata": {},
   "outputs": [
    {
     "name": "stdout",
     "output_type": "stream",
     "text": [
      "(1.0, 0.1)\n"
     ]
    }
   ],
   "source": [
    "print(shots[0].sources.position)"
   ]
  },
  {
   "cell_type": "markdown",
   "metadata": {},
   "source": [
    "The information of the receiver is stored in ``receivers``"
   ]
  },
  {
   "cell_type": "code",
   "execution_count": 35,
   "metadata": {},
   "outputs": [
    {
     "name": "stdout",
     "output_type": "stream",
     "text": [
      "['__class__', '__delattr__', '__dict__', '__dir__', '__doc__', '__eq__', '__format__', '__ge__', '__getattribute__', '__gt__', '__hash__', '__init__', '__init_subclass__', '__le__', '__lt__', '__module__', '__ne__', '__new__', '__reduce__', '__reduce_ex__', '__repr__', '__setattr__', '__sizeof__', '__slotnames__', '__str__', '__subclasshook__', '__weakref__', '_data', '_interpolator', '_max_deltas', '_prod_deltas', '_sample_interp_method', '_time_window', 'adjoint_sampling_operator', 'clear_data', 'compute_data_dft', 'data', 'data_dft', 'deltas', 'domain', 'extend_data_to_array', 'get_data', 'get_interpolator', 'get_receiver_count', 'interpolate_data', 'interpolator', 'mesh', 'receiver_count', 'receiver_list', 'reset_time_series', 'sample_data_from_array', 'sampling_operator', 'serialize_dict', 'set_data', 'set_interpolator', 'set_shot', 'shot', 'time_window', 'ts', 'unserialize_dict']\n"
     ]
    }
   ],
   "source": [
    "print(dir(shots[0].receivers))"
   ]
  },
  {
   "cell_type": "markdown",
   "metadata": {},
   "source": [
    "The time-domain data is stored in ``data``, while the frequency domain data is stored in ``data_dft``. We use the time-domain  data as an example:"
   ]
  },
  {
   "cell_type": "code",
   "execution_count": 37,
   "metadata": {},
   "outputs": [
    {
     "name": "stdout",
     "output_type": "stream",
     "text": [
      "[[0.00000000e+00 0.00000000e+00 0.00000000e+00 ... 0.00000000e+00\n",
      "  0.00000000e+00 0.00000000e+00]\n",
      " [0.00000000e+00 0.00000000e+00 0.00000000e+00 ... 0.00000000e+00\n",
      "  0.00000000e+00 0.00000000e+00]\n",
      " [0.00000000e+00 0.00000000e+00 0.00000000e+00 ... 0.00000000e+00\n",
      "  0.00000000e+00 0.00000000e+00]\n",
      " ...\n",
      " [1.84685237e-05 2.64225904e-05 2.98110554e-05 ... 2.37096436e-05\n",
      "  1.97040295e-05 1.29393075e-05]\n",
      " [1.88560112e-05 2.68490849e-05 3.01397888e-05 ... 2.41922922e-05\n",
      "  2.02999788e-05 1.34597296e-05]\n",
      " [1.92210180e-05 2.72492922e-05 3.04470687e-05 ... 2.46478678e-05\n",
      "  2.08669793e-05 1.39574422e-05]]\n"
     ]
    }
   ],
   "source": [
    "print(shots[0].receivers.data)"
   ]
  },
  {
   "cell_type": "markdown",
   "metadata": {},
   "source": [
    "The infomation of $k^{th}$ receiver can be checked by:"
   ]
  },
  {
   "cell_type": "code",
   "execution_count": 39,
   "metadata": {},
   "outputs": [
    {
     "name": "stdout",
     "output_type": "stream",
     "text": [
      "['__class__', '__delattr__', '__dict__', '__dir__', '__doc__', '__eq__', '__format__', '__ge__', '__getattribute__', '__gt__', '__hash__', '__init__', '__init_subclass__', '__le__', '__lt__', '__module__', '__ne__', '__new__', '__reduce__', '__reduce_ex__', '__repr__', '__setattr__', '__sizeof__', '__slotnames__', '__str__', '__subclasshook__', '__weakref__', '_data', '_max_deltas', '_prod_deltas', '_sample_interp_method', '_sampling_operator_base', '_time_window', 'adjoint_sampling_operator', 'approximation', 'approximation_deviations', 'approximation_width', 'clear_data', 'compute_data_dft', 'data', 'data_dft', 'deltas', 'domain', 'extend_data_to_array', 'get_data', 'get_receiver_count', 'interpolate_data', 'interpolator', 'mesh', 'position', 'receiver_count', 'reset_time_series', 'sample_data_from_array', 'sampling_operator', 'serialize_dict', 'set_data', 'set_shot', 'shot', 'time_window', 'ts', 'unserialize_dict']\n"
     ]
    }
   ],
   "source": [
    "k = 0\n",
    "print(dir(shots[0].receivers.receiver_list[k]))"
   ]
  },
  {
   "cell_type": "markdown",
   "metadata": {},
   "source": [
    "We can get its position by:"
   ]
  },
  {
   "cell_type": "code",
   "execution_count": 40,
   "metadata": {},
   "outputs": [
    {
     "name": "stdout",
     "output_type": "stream",
     "text": [
      "(0.0, 0.1)\n"
     ]
    }
   ],
   "source": [
    "print(shots[0].receivers.receiver_list[k].position)"
   ]
  },
  {
   "cell_type": "markdown",
   "metadata": {},
   "source": [
    "### Generate frequency-domain data\n",
    "\n",
    "We have shown how to generate the time domain data. Now let us show how to generate the frequency domain data. We only need to change the solver.\n",
    "\n",
    "In this example, we use the Helmholtz equation with constant density as our target wave equation. In order to generate the frequency domain data, you need to pass values to the parameter ``frequencies`` when using the function of ``generate_seismic_data``. Different from the time domain solver, when generating frequency domain data, the data of $i^{\\text{th}}$ shot at frequency of ``f`` is stored in ``shots_freq[i].receivers.data_dft[f]``"
   ]
  },
  {
   "cell_type": "code",
   "execution_count": 11,
   "metadata": {},
   "outputs": [
    {
     "name": "stderr",
     "output_type": "stream",
     "text": [
      "/math/home/fangzl/.local/lib/python3.6/site-packages/pyamg/gallery/stencil.py:116: FutureWarning: Using a non-tuple sequence for multidimensional indexing is deprecated; use `arr[tuple(seq)]` instead of `arr[seq]`. In the future this will be interpreted as an array index, `arr[np.array(seq)]`, which will result either in an error or a different result.\n",
      "  diag[s] = 0\n",
      "/math/home/fangzl/.local/lib/python3.6/site-packages/pyamg/gallery/stencil.py:112: FutureWarning: Using a non-tuple sequence for multidimensional indexing is deprecated; use `arr[tuple(seq)]` instead of `arr[seq]`. In the future this will be interpreted as an array index, `arr[np.array(seq)]`, which will result either in an error or a different result.\n",
      "  diag[s] = 0\n",
      "/math/home/fangzl/.local/lib/python3.6/site-packages/scipy/sparse/sputils.py:141: VisibleDeprecationWarning: `rank` is deprecated; use the `ndim` attribute or function instead. To find the rank of a matrix see `numpy.linalg.matrix_rank`.\n",
      "  if np.rank(M) == 0 and np.rank(N) == 0:\n"
     ]
    }
   ],
   "source": [
    "    solver = ConstantDensityHelmholtz(m,\n",
    "                                      spatial_accuracy_order=4)\n",
    "    \n",
    "    frequencies = [2.0,3.0]\n",
    "    \n",
    "    generate_seismic_data(shots_freq, solver, base_model, frequencies=frequencies)\n"
   ]
  },
  {
   "cell_type": "code",
   "execution_count": null,
   "metadata": {},
   "outputs": [],
   "source": [
    "    xrec = np.linspace(0.0,2.0,201)\n",
    "    data1 = shots_freq[0].receivers.data_dft[2.0]\n",
    "    data2 = shots_freq[0].receivers.data_dft[3.0]\n",
    "    plt.figure(figsize=(12,12))\n",
    "    plt.subplot(2,2,1)\n",
    "    plt.plot(xrec, np.real(data1.flatten()))\n",
    "    plt.xlabel('Receivers [km]')\n",
    "    plt.title('Real part of data at f = 2.0Hz')\n",
    "    plt.subplot(2,2,2)\n",
    "    plt.plot(xrec, np.real(data2.flatten()))\n",
    "    plt.xlabel('Receivers [km]')\n",
    "    plt.title('Real part of data at f = 3.0Hz')\n",
    "\n",
    "    plt.subplot(2,2,3)\n",
    "    plt.plot(xrec, np.imag(data1.flatten()))\n",
    "    plt.xlabel('Receivers [km]')\n",
    "    plt.title('Imaginary part of data at f = 2.0Hz')\n",
    "    plt.subplot(2,2,4)\n",
    "    plt.plot(xrec, np.imag(data2.flatten()))\n",
    "    plt.xlabel('Receivers [km]')\n",
    "    plt.title('Imaginary part of data at f = 3.0Hz')\n",
    "    "
   ]
  }
 ],
 "metadata": {
  "kernelspec": {
   "display_name": "Python 3",
   "language": "python",
   "name": "python3"
  },
  "language_info": {
   "codemirror_mode": {
    "name": "ipython",
    "version": 3
   },
   "file_extension": ".py",
   "mimetype": "text/x-python",
   "name": "python",
   "nbconvert_exporter": "python",
   "pygments_lexer": "ipython3",
   "version": "3.6.7"
  }
 },
 "nbformat": 4,
 "nbformat_minor": 2
}

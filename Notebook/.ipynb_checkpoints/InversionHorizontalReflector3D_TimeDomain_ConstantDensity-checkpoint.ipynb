{
 "cells": [
  {
   "cell_type": "markdown",
   "metadata": {},
   "source": [
    "## Example of 3D time-domain FWI with a constant density model\n",
    "\n",
    "In this example, we will show how to use PySIT to conduct a 3D FWI with a constant density model. The corresponding .py file can be found in ``/Demo/InversionHorizontalReflector3D_TimeDomain_ConstantDensity.py``"
   ]
  },
  {
   "cell_type": "code",
   "execution_count": 6,
   "metadata": {},
   "outputs": [],
   "source": [
    "%matplotlib inline"
   ]
  },
  {
   "cell_type": "markdown",
   "metadata": {},
   "source": [
    "Import necessary modules:"
   ]
  },
  {
   "cell_type": "code",
   "execution_count": 13,
   "metadata": {},
   "outputs": [],
   "source": [
    "import time\n",
    "import copy\n",
    "\n",
    "import numpy as np\n",
    "import matplotlib.pyplot as plt\n",
    "import math\n",
    "import os\n",
    "from shutil import copy2\n",
    "from mpl_toolkits.axes_grid1 import make_axes_locatable\n",
    "\n",
    "import sys\n",
    "import scipy.io as sio\n",
    "\n",
    "from pysit import *\n",
    "from pysit.gallery import horizontal_reflector\n",
    "from pysit.util.io import *\n",
    "from pysit.vis.vis import *\n",
    "from pysit.util.compute_tools import *\n",
    "\n",
    "from pysit.util.parallel import *"
   ]
  },
  {
   "cell_type": "markdown",
   "metadata": {},
   "source": [
    "### Define the physical domain, computational mesh and velocity models ###\n",
    "\n",
    "1. Define perfectly matched layer(PML) boundaries in x, y and z directions with width of ``0.1 km`` and PML coefficient of ``100`` by\n",
    "\n",
    "    ``pmlx = PML(0.1, 100, compact=True)`` (the argument ``compact``)\n",
    "    \n",
    "    ``pmly = PML(0.1, 100, compact=True)``\n",
    "\n",
    "    ``pmlz = PML(0.1, 100, compact=True)``\n",
    "    \n",
    "\n",
    "    For more information about the PML object, we refer users to check ``/pysit/core/domain.py`` by\n",
    "\n",
    "2. Define a 3D rectangular domain with the ranges of ``(0.1, 1.0) km``, ``(0.1, 0.9) km``, ``(0.1, 0.8) km`` in x, y, and z directions.\n",
    "    \n",
    "    ``x_config = (0.1, 1.0, pmlx, pmlx)`` (The physical domain of x direction starts at 0.1 km and ends at 1.0 km.)\n",
    "    \n",
    "    ``y_config = (0.1, 0.9, pmly, pmly)`` (The physical domain of y direction starts at 0.1 km and ends at 0.9 km.)\n",
    "    \n",
    "    ``z_config = (0.1, 0.8, pmlz, pmlz)`` (The physical domain of z direction starts at 0.1 km and ends at 0.8 km.)\n",
    "    \n",
    "    ``d = RectangularDomain(x_config, y_config, z_config)``\n",
    "    \n",
    "    For more information about the RectangularDomain, we refer users to check ``/pysit/core/domain.py``.\n",
    "\n",
    "3. Define the computational Cartesian mesh with ``46`` grids in ``x`` direction, ``41`` grids in ``y`` direction, and ``36`` grids in ``z`` direction by\n",
    "    \n",
    "    ``m = CartesianMesh(d, 46, 41, 36)`` (The computational mesh ``m`` meets the physical domain ``d``)\n",
    "    \n",
    "    For more information about the CartesianMesh object, we refer users to check ``/pysit/core/mesh.py``.\n",
    "    \n",
    "4. Generate the true velocity model and initial model for a Horizontal reflector model by\n",
    "\n",
    "    ``C, C0, m, d = horizontal_reflector(m)``\n",
    "    \n",
    "    The output ``C`` is the true velocity model and ``C0`` is the initial model.\n",
    "    \n",
    "    For more information about the horizontal_reflecotr object, we refer users to check ``/pysit/gallery/horizontal_reflector.py``.\n",
    "    \n"
   ]
  },
  {
   "cell_type": "code",
   "execution_count": 32,
   "metadata": {},
   "outputs": [
    {
     "data": {
      "text/plain": [
       "Text(0.5, 1.0, 'Slice at \\n x = 540 m, y = 500 m, z = 440 m')"
      ]
     },
     "execution_count": 32,
     "metadata": {},
     "output_type": "execute_result"
    },
    {
     "data": {
      "image/png": "[encoded data removed]",
      "text/plain": [
       "<Figure size 432x288 with 1 Axes>"
      ]
     },
     "metadata": {
      "needs_background": "light"
     },
     "output_type": "display_data"
    },
    {
     "data": {
      "image/png": "[encoded data removed]",
      "text/plain": [
       "<Figure size 432x432 with 3 Axes>"
      ]
     },
     "metadata": {
      "needs_background": "light"
     },
     "output_type": "display_data"
    }
   ],
   "source": [
    "    pmlx = PML(0.1, 100)\n",
    "    pmly = PML(0.1, 100)\n",
    "    pmlz = PML(0.1, 100)\n",
    "\n",
    "    x_config = (0.1, 1.0, pmlx, pmlx)\n",
    "    y_config = (0.1, 0.9, pmly, pmly)\n",
    "    z_config = (0.1, 0.8, pmlz, pmlz)\n",
    "\n",
    "    d = RectangularDomain(x_config, y_config, z_config)\n",
    "\n",
    "    m = CartesianMesh(d, 46, 41, 36)\n",
    "    \n",
    "    C, C0, m, d = horizontal_reflector(m)\n",
    "    \n",
    "    n_data = (46, 41, 36)\n",
    "    n_dataplt = (n_data[0], n_data[2], n_data[1])\n",
    "    Cplot = np.reshape(C, n_data)\n",
    "    Cplot = np.transpose(Cplot, (0, 2, 1))\n",
    "    origins = [0.1, 0.1, 0.1]\n",
    "    deltas = [0.02, 0.02, 0.02]\n",
    "    \n",
    "    axis_ticks = [np.array(list(range(0, n_dataplt[0]-5, (n_data[0]-6)//4))), \n",
    "                  np.array(list(range(5, n_dataplt[1]-5, (n_data[1]-11)//4))),\n",
    "                  np.array(list(range(0, n_dataplt[2], (n_data[2]-1)//2)))\n",
    "                 ]\n",
    "    axis_tickslabels = [(axis_ticks[0] * deltas[0] * 1000.0 + origins[0] * 1000.0).astype(int),\n",
    "                        (axis_ticks[1] * deltas[1] * 1000.0 + origins[1] * 1000.0).astype(int),\n",
    "                        (axis_ticks[2] * deltas[2] * 1000.0 + origins[2] * 1000.0).astype(int)\n",
    "                       ]\n",
    "\n",
    "    \n",
    "    plot_3D_panel(Cplot, slice3d=(22, 18, 20),\n",
    "                  axis_label=['x [m]', 'z [m]', 'y [m]'],\n",
    "                  axis_ticks=axis_ticks,\n",
    "                  axis_tickslabels=axis_tickslabels,\n",
    "                  vmin=1.6, vmax=2.2\n",
    "                 )\n",
    "    plt.title('Slice at \\n x = 540 m, y = 500 m, z = 440 m')\n",
    "    "
   ]
  },
  {
   "cell_type": "markdown",
   "metadata": {},
   "source": [
    "### Set up shots\n",
    "1. Set up the shots object by:\n",
    "\n",
    "    ``shots = equispaced_acquisition(m, RickerWavelet(10.0), sources=Nshots, source_depth=zpos,source_kwargs={},receivers='max',receiver_depth=zpos,receiver_kwargs={})``\n",
    "\n",
    "    ``equispaced_acquisition`` - create a shots object with equially spaced acquisition\n",
    "\n",
    "    ``m`` - computational mesh\n",
    "\n",
    "    ``RickerWavelet(10.0)`` - a Ricker wavelet centered at ``10 Hz``\n",
    "\n",
    "    ``sources`` - number of sources, for 3D modeling, sources has two elements that indicates number of sources in x and y directions. For example, ``sources = (2,3)`` means that there are 2 shots in the x direction and 3 shots in the y direction.\n",
    "\n",
    "    ``source_depth`` - the depth of sources\n",
    "\n",
    "    ``receivers`` - number of receivers, if set to be ``max``, then the number of receivers equals to the number of grids in x direction.\n",
    "\n",
    "    ``receiver_depth`` - the depth of receivers\n",
    "    \n",
    "    For more information about the ``equispaced_acquisition`` object, we refer the users to check ``/pysit/core/acquisition.py``. \n",
    "    \n",
    "2. Set up the range of recording time by;\n",
    "\n",
    "    ``trange = (0.0,3.0)``.\n",
    "    \n",
    "\n",
    "\n",
    "                                   \n",
    "\n"
   ]
  },
  {
   "cell_type": "code",
   "execution_count": 16,
   "metadata": {},
   "outputs": [
    {
     "name": "stdout",
     "output_type": "stream",
     "text": [
      "<class 'numpy.float64'>\n",
      "1.0\n"
     ]
    }
   ],
   "source": [
    "# Set up shots\n",
    "    zmin = d.z.lbound\n",
    "    zmax = d.z.rbound\n",
    "    zpos = zmin + (1./9.)*zmax\n",
    "\n",
    "    Nshots = 1,1\n",
    "\n",
    "    shots = equispaced_acquisition(m,\n",
    "                                   RickerWavelet(10.0),\n",
    "                                   sources=Nshots,\n",
    "                                   source_depth=zpos,\n",
    "                                   source_kwargs={},\n",
    "                                   receivers='max',\n",
    "                                   receiver_depth=zpos,\n",
    "                                   receiver_kwargs={}\n",
    "                                   )\n",
    "\n",
    "    \n",
    "    shots_freq = copy.deepcopy(shots)\n",
    "\n",
    "\n",
    "    # Define and configure the wave solver\n",
    "    trange = (0.0,3.0)"
   ]
  },
  {
   "cell_type": "markdown",
   "metadata": {},
   "source": [
    "### Define the wave-equation solver and the computational model object, and generate time-domain data \n",
    "\n",
    "1. In this example, we use the time-domain constant density acoustic wave as our target wave equation. We set up our wave equation solver by:\n",
    "\n",
    "    ``solver = ConstantDensityAcousticWave(m, spatial_accuracy_order=2, trange=trange, kernel_implementation='cpp')``\n",
    "                                     \n",
    "    ``m`` - the computational mesh\n",
    "\n",
    "    ``spatial_accuracy_order`` - the spatial accuray order for the numerical solver. Users can select one of the four values ``2, 4, 6, 8``. \n",
    "\n",
    "    ``trange`` - the range of the recording time\n",
    "\n",
    "    ``kernel_implementattion`` - the implementation of the stencil kernel. When set it to be 'cpp', we use the stencil implemented in the language of ``C++``. \n",
    "    \n",
    "    For more information about the ``ConstantDensityAcousticWave`` object, we refer the users to check ``/pysit/solvers/wave_factory.py``\n",
    "    \n",
    "2. Create the velocity model object for the wave-quation solver by:\n",
    "\n",
    "    ``base_model = solver.ModelParameters(m,{'C': C})``\n",
    "    \n",
    "    The model object ``base_model`` contains the information of the computational mesh and the velocity model ``C``.\n",
    "    \n",
    "3. Generate the time-domain data by:\n",
    "\n",
    "    ``generate_seismic_data(shots, solver, base_model)``\n",
    "    \n",
    "    The generated data are stored in the object ``shots``. In order to check the data of the $i^{\\text{th}}$ shot, you may need to use the command:\n",
    "    \n",
    "    ``data = shots[i].receivers.data``\n",
    "    \n",
    "    For more information about the ``generate_seismic_data`` function, we refer the users to check ``/pysit/modeling/data_modeling.py``."
   ]
  },
  {
   "cell_type": "code",
   "execution_count": 17,
   "metadata": {},
   "outputs": [],
   "source": [
    "    solver = ConstantDensityAcousticWave(m,\n",
    "                                         spatial_accuracy_order=2,\n",
    "                                         trange=trange,\n",
    "                                         kernel_implementation='cpp',\n",
    "                                         max_C=3.2)\n",
    "    solver.max_C = 3.2\n",
    "    \n",
    "    base_model = solver.ModelParameters(m,{'C': C})\n",
    "    \n",
    "    generate_seismic_data(shots, solver, base_model)\n",
    "    \n",
    "    data = shots[0].receivers.data\n",
    "    \n",
    "    t_smp = np.linspace(trange[0], trange[1], data.shape[0])\n",
    "    "
   ]
  },
  {
   "cell_type": "code",
   "execution_count": 11,
   "metadata": {},
   "outputs": [
    {
     "data": {
      "text/plain": [
       "[<matplotlib.image.AxesImage at 0x7f53836732b0>,\n",
       " <matplotlib.image.AxesImage at 0x7f5383406240>,\n",
       " <matplotlib.image.AxesImage at 0x7f5383406518>]"
      ]
     },
     "execution_count": 11,
     "metadata": {},
     "output_type": "execute_result"
    },
    {
     "data": {
      "image/png": "[encoded data removed]",
      "text/plain": [
       "<Figure size 432x288 with 1 Axes>"
      ]
     },
     "metadata": {
      "needs_background": "light"
     },
     "output_type": "display_data"
    },
    {
     "data": {
      "image/png": "[encoded data removed]",
      "text/plain": [
       "<Figure size 432x432 with 3 Axes>"
      ]
     },
     "metadata": {
      "needs_background": "light"
     },
     "output_type": "display_data"
    }
   ],
   "source": [
    "    fig=plt.figure()\n",
    "    n_recdata = [len(t_smp), n_data[0], n_data[1]]\n",
    "    n_recdataplt = [n_data[0], len(t_smp), n_data[1]]\n",
    "    data = np.reshape(data, n_recdata)\n",
    "    dataplt = np.transpose(data, (1, 0, 2))\n",
    "    deltas_data = [deltas[0], solver.dt,  deltas[2]]\n",
    "    origins_data = [origins[0], 0.0,origins[2]]\n",
    "    \n",
    "    axis_ticks = [np.array(list(range(0, n_recdataplt[0]-5, (n_recdataplt[0]-1)//4))), \n",
    "                  np.array(list(range(0, n_recdataplt[1]-5, (n_recdataplt[1]-1)//4))),\n",
    "                  np.array(list(range(0, n_recdataplt[2], (n_recdataplt[2]-1)//2)))\n",
    "                 ]\n",
    "    axis_tickslabels = [np.round(axis_ticks[0] * deltas_data[0]  + origins_data[0], 2),\n",
    "                        np.round(axis_ticks[1] * deltas_data[1]  + origins_data[1], 2),\n",
    "                        np.round(axis_ticks[2] * deltas_data[2]  + origins_data[2], 2)\n",
    "                       ]\n",
    "\n",
    "    \n",
    "    plot_3D_panel(dataplt, slice3d=(22, 900, 20),\n",
    "                  axis_label=[ 'x [km]', 'Time [s]', 'y [km]'],\n",
    "                  axis_ticks=axis_ticks,\n",
    "                  axis_tickslabels=axis_tickslabels,\n",
    "                  width_ratios=[1,1], height_ratios=[1,1],cmap='seismic', vmin=-0.2,vmax=0.2\n",
    "                 )"
   ]
  },
  {
   "cell_type": "markdown",
   "metadata": {},
   "source": [
    "### Inversion \n",
    "\n",
    "After the data generation, we will show how to set up the inversion. \n",
    "\n",
    "1. **Set up the objective function object.**\n",
    "\n",
    " The first thing for the inversion is to set up the objective function. In this version of PySIT, we provide the following objective function options: ``Least-squares method``, ``Envelope method``, ``Cross-correlation method``, ``Optimal transportation method``, and ``FWI with extended imaging``. In order to use these objective functions, users can follow the follwoing instruction:\n",
    "\n",
    "    **<1> *Least squares*:** for the least-squares method, the necessary input is the solver of the wave-equation. There are three optional inputs: \n",
    "    \n",
    "    ``filter_op`` - the filtering oprerator used in the inversion. We will define one filtering operator in the following example.\n",
    "    \n",
    "    ``parallel_wrap_shot`` - the parallel wrapper for using parallel computing. The default is ``ParallelWrapShotNull``, which means that we do not use parallel computing.\n",
    "    \n",
    "    ``imaging_period`` - imaging period for computing the gradient. The default is ``1``, which means that we use each step of the wavefield to compute the gradient.\n",
    "    \n",
    "    To generate a Least-squares objective function, we can use the following command:\n",
    "    \n",
    "    ``objective = TemporalLeastSquares(solver, filter_op=filter_op1, parallel_wrap_shot=pwrap, imaging_period=1)``,\n",
    "    \n",
    "    where ``filter_op1`` and ``pwrap`` are predefined filtering operator and parallel wrapper, respectively.\n",
    "    \n",
    "    **<2> *Envelope method*:** for envelope method, the input arguments are almost the same as the Least-squares method. There is one one additional optional argument:\n",
    "    \n",
    "    ``envelope_power`` – the power for the envelope data. By default, we set it to be ``2``.\n",
    "    \n",
    "    To generate an objective function for the envelope method, we can use the following command:\n",
    "    \n",
    "    ``objective = TemporalEnvelope(solver, envelope_power=2.0, filter_op=filter_op1, parallel_wrap_shot=pwrap, imaging_period=1)``.\n",
    "    \n",
    "    **<3> *Cross-correlation method*:** for the cross-correlation method, the input arguments are the same as the Least-squares method. To generate an objective function for the cross-correlation method, we can use the following command:\n",
    "    \n",
    "    ``objective = TemporalCorrelate(solver, filter_op=filter_op, parallel_wrap_shot=pwrap, imaging_period=1)``.\n",
    "    \n",
    "    **<4> *Optimal transportation method*:** for the optimal transportation method, we provide four different tranformation options to transform the seismic data to a probability density function, i.e. ``Linear function``, ``Quadratic function``, ``Absolute function`` and ``exponential function``. We can set the input arguement ``transform_mode`` to select the tranformation function. There are four options for ``transform_mode`` - ``linear``, ``quadratic``, ``absolute``, and ``exponential``. \n",
    "    \n",
    "    We can use the following commands to generate the objective function for each transformation option:\n",
    "    \n",
    "    [1] Linear function: \n",
    "    \n",
    "    ``objective = TemporalOptimalTransport(solver, filter_op=filter_op1, parallel_wrap_shot=pwrap, imaging_period=1, transform_mode='linear', c_ratio=2.0)``,\n",
    "    \n",
    "    where ``c_ratio`` corresponds to the parameter $c$ in the linear function $f(x) = x + c$.\n",
    "    \n",
    "    [2] Quadratic function:\n",
    "    \n",
    "    ``objective = TemporalOptimalTransport(solver, filter_op=filter_op1, parallel_wrap_shot=pwrap, imaging_period=1, transform_mode='quadratic')``.\n",
    "    \n",
    "    [3] Absolute function:\n",
    "    \n",
    "    ``objective = TemporalOptimalTransport(solver, filter_op=filter_op1, parallel_wrap_shot=pwrap, imaging_period=1, transform_mode='absolute')``.\n",
    "    \n",
    "    [4] Exponential function:\n",
    "    \n",
    "    ``objective = TemporalOptimalTransport(solver, filter_op=filter_op1, parallel_wrap_shot=pwrap, imaging_period=1, transform_mode='exponential', exp_a=1.0)``.\n",
    "    \n",
    "    where the input argument ``exp_a`` correspons to the $a$ in the exponential function $f(x)=\\exp(ax)$.  \n",
    "    \n",
    "    For more information about the objective functions, we recommend users to check the files in ``/pysit/objective_functions``.\n",
    "    \n",
    "2. **Define the filtering operator.**\n",
    "\n",
    "    In PySIT, we provide the feature to define a band-pass filter to conduct band-pass filtering on the data. An example of generating a band-pass filter is as follows:\n",
    "    \n",
    "    ``filter_op = band_pass_filter(n_timesmp, T_max, freq_band, transit_freq_length=0.5, padding_zeros=True, nl=500, nr=500)``,\n",
    "    \n",
    "    where\n",
    "    \n",
    "    ``n_timesmp`` - number of the sampling points in time.\n",
    "    \n",
    "    ``T_max`` - the maximum recording time. \n",
    "    \n",
    "    ``freq_band`` - freq_band = (min_freq, max_freq), which defines the lowest and highest frequency of the band-pass filter.\n",
    "    \n",
    "    ``transit_freq_length`` - the width of the transition band that allows the transition between the passband and the stopband of the signal in frequency domain. Here, we set the transition band width to be ``0.5 Hz``.\n",
    "    \n",
    "    ``padding_zeros`` - the flag to decide whether we need to pad zeros at the both sides of the signal.\n",
    "    \n",
    "    ``nl, nr`` - number of zeros padded at the left side (nl) and right side (nr) of the signal.\n",
    "    \n",
    "    For more information about the band_pass filter, we recommend users to check the file ``/pysit/util/compute_tool.py``.\n",
    "\n",
    "3. **Define the parallel wrapper.**\n",
    "\n",
    "    PySIT provides the feature to compute different shots in parallel. In oreder to activate this feature, we should define a parallel wrapper. We can define the parallel wrapper by the following command:\n",
    "    \n",
    "    ``pwrap = ParallelWrapShot()``.\n",
    "    \n",
    "    For more information about the parallel wrapper, we recommend users to check the file ``/pysit/util/parallel.py``.\n",
    "    \n",
    "    \n",
    "Now, let us first define a Least-squares objective function as an example.    "
   ]
  },
  {
   "cell_type": "code",
   "execution_count": 18,
   "metadata": {},
   "outputs": [],
   "source": [
    "    pwrap = ParallelWrapShot()\n",
    "\n",
    "    n_timesmp = shots[0].receivers.data.shape[0]\n",
    "    T_max = solver.tf\n",
    "    freq_band =[1.0, 30.0]\n",
    "    filter_op1 = band_pass_filter(n_timesmp, T_max, freq_band, transit_freq_length=0.5, padding_zeros=True, nl=500, nr=500)\n",
    "    \n",
    "    objective = TemporalLeastSquares(solver, filter_op=filter_op1, parallel_wrap_shot=pwrap, imaging_period=1)\n",
    "    "
   ]
  },
  {
   "cell_type": "markdown",
   "metadata": {},
   "source": [
    "4. **Define the optimization object.**\n",
    "\n",
    "    After generating the objective function object, the next step is to generate the optimziation object. PySIT provides the following optimization algorithms: \n",
    "\n",
    "    <1>. projected gradient descent method, \n",
    "    \n",
    "    <2>. projected quasi newton method, \n",
    "    \n",
    "    <3>. Gauss-Newton method. \n",
    "    \n",
    "    We can use the following command to generate the optimization object corresponding to the above algorithms. \n",
    "    \n",
    "    [1]. Projected gradient descent method:\n",
    "    \n",
    "    ``invalg = PQN(objective, proj_op=Proj_Op)``,\n",
    "    \n",
    "    where the input argument ``proj_op`` is the projection operator that we decide to use in the inversion. It is an optional input argument. By default, we set ``proj_op=None``, which means we do not use any projection operator and the resulting algorithm is the basic gradient descent method. We will introduce how to generate a projcetion operator in the next cell.\n",
    "    \n",
    "    [2]. Projected quasi newton method:\n",
    "    \n",
    "    ``invalg = PQN(objective, proj_op=Proj_Op, memory_length=10)``,\n",
    "    \n",
    "    where the additional input argument ``memory_length`` denotes the number of previous iterations stored in the memory for l-BFGS method. Same as the projected gradient descent method, the default setting of ``proj_op`` is ``proj_op=None``.\n",
    "    \n",
    "    [3]. Gauss-Newton method:\n",
    "    \n",
    "    ``invalg = GaussNewton(objective, krylov_maxiter=50)``,\n",
    "    \n",
    "    where the additional input argument ``krylov_maxiter`` defines the maximal numbal of the krylov iterations used to solve the linearized problem.\n",
    "    \n",
    "    For More information about the optimization methods, we recommend users to check the directory ``/pysit/optimization``.\n",
    "   \n",
    "5. **Define the projection operator.**\n",
    "\n",
    "    In the current version of PySIT, we provide two projection operators – ``BoxConstraintPrj`` and ``WaterVelocityPrj``. To generate the two operator, users can use the following commands:\n",
    "    \n",
    "    [1] Box Constraint projection:\n",
    "        \n",
    "    ``Proj_op1 = BoxConstraintPrj(bound)``, \n",
    "    \n",
    "    where \n",
    "    \n",
    "    ``bound = (v_min, v_max)`` denotes the lower and upper bound of the velocity.\n",
    "    \n",
    "    [2] Water Velocity Projection:\n",
    "    \n",
    "    ``Proj_op2 = WaterVelocityPrj(ModelSize, NumberofWaterLayer=10, WaterVel=1.5)``,\n",
    "    \n",
    "    where \n",
    "    \n",
    "    ``ModelsSize = [nx, nz]`` denotes the size of the model,\n",
    "    \n",
    "    ``NumberofWaterLayer`` denotes the number of the water layer,\n",
    "    \n",
    "    ``WaterVel`` denotes the velocity of water.\n",
    "    \n",
    "    We also provide the feature to combine two projection operators. Users can achieve this by the following command:\n",
    "    \n",
    "    ``Proj_joint = JointPrj(Proj_op1, Proj_op2)``.\n",
    "    \n",
    "    For more information about the projection operator, we recommend users to check the file ``/pysit/optimization/projection.py``.\n",
    "    \n",
    "6. **Define the number of iterations.**\n",
    "\n",
    "    We can define the number of iterations by ``nsteps = 5``.\n",
    "    \n",
    "7. **Set up status_configuration.**\n",
    "\n",
    "    Please check the following python cell to check the setting of the status_configuration.\n",
    "\n",
    "8. **Set up the line search type**.\n",
    "\n",
    "    We recommend to use the backtrack line search by the following command: \n",
    "    \n",
    "    ``line_search = 'backtrack'``.\n",
    "    \n",
    "9. **Set up the initial model**.\n",
    "\n",
    "    We can set up the initial model by:\n",
    "    \n",
    "    ``initial_value = solver.ModelParameters(m,{'C': C0})``.\n",
    "\n",
    "9. **Run the inversion**.\n",
    "\n",
    "    After setting up all the necessary and optional arguments, we can conduct the inversion by:\n",
    "    \n",
    "    result = invalg(shots, initial_value, nsteps,\n",
    "                    line_search=line_search,\n",
    "                    status_configuration=status_configuration, verbose=True, write=False)\n",
    "                    \n",
    "    where, the argument ``write`` denotes whether the user wants to write the model of each iteration to the disk.\n",
    "    \n",
    "    \n",
    "Now, let us use PQN as an example."
   ]
  },
  {
   "cell_type": "code",
   "execution_count": 19,
   "metadata": {},
   "outputs": [
    {
     "name": "stdout",
     "output_type": "stream",
     "text": [
      "Iteration 0\n",
      "  gradnorm 2232.6124379152484\n",
      "  objective 0.014326661791442086\n",
      "  residual 0.16927292631393887\n",
      "  Starting:  1.0 0.014326661791442086\n",
      "  Pass 1: a:1.0; 0.013453910632222187 ?<= 0.014325730993494247\n",
      "  alpha 1.0\n",
      "  run time 175.14640545845032s\n",
      "Iteration 1\n",
      "  gradnorm 1998.5017931049276\n",
      "  objective 0.013453910632222187\n",
      "  residual 0.16403603648114756\n",
      "  Starting:  1.0 0.013453910632222187\n",
      "  Pass 1: a:1.0; 0.010957860448157778 ?<= 0.013447894976484792\n",
      "  alpha 1.0\n",
      "  run time 156.66591334342957s\n",
      "Iteration 2\n",
      "  gradnorm 4278.970190511999\n",
      "  objective 0.010957860448157778\n",
      "  residual 0.14803959232690272\n",
      "  Starting:  1.0 0.010957860448157778\n",
      "  Pass 1: a:1.0; 0.009927805611951966 ?<= 0.010954863061180396\n",
      "  alpha 1.0\n",
      "  run time 149.93397426605225s\n",
      "Iteration 3\n",
      "  gradnorm 4188.404423114504\n",
      "  objective 0.009927805611951966\n",
      "  residual 0.1409099401174521\n",
      "  Starting:  1.0 0.009927805611951966\n",
      "  Pass 1: a:1.0; 0.009358755520577145 ?<= 0.009927027277658458\n",
      "  alpha 1.0\n",
      "  run time 156.214346408844s\n",
      "Iteration 4\n",
      "  gradnorm 2164.837858966559\n",
      "  objective 0.009358755520577145\n",
      "  residual 0.13681195503739538\n",
      "  Starting:  1.0 0.009358755520577145\n",
      "  Pass 1: a:1.0; 0.00863350907684516 ?<= 0.009357799564345876\n",
      "  alpha 1.0\n",
      "  run time 160.0034396648407s\n"
     ]
    }
   ],
   "source": [
    "    bound = [1.5, 3.0]\n",
    "    Proj_Op1 = BoxConstraintPrj(bound)\n",
    "    invalg = PQN(objective, proj_op=Proj_Op1, memory_length=10)\n",
    "    \n",
    "    nsteps = 5\n",
    "    status_configuration = {'value_frequency'           : 1,\n",
    "                            'residual_frequency'        : 1,\n",
    "                            'residual_length_frequency' : 1,\n",
    "                            'objective_frequency'       : 1,\n",
    "                            'step_frequency'            : 1,\n",
    "                            'step_length_frequency'     : 1,\n",
    "                            'gradient_frequency'        : 1,\n",
    "                            'gradient_length_frequency' : 1,\n",
    "                            'run_time_frequency'        : 1,\n",
    "                            'alpha_frequency'           : 1,\n",
    "                            }\n",
    "    \n",
    "    initial_value = solver.ModelParameters(m,{'C': C0})\n",
    "    line_search = 'backtrack'\n",
    "    \n",
    "    result = invalg(shots, initial_value, nsteps,\n",
    "                    line_search=line_search,\n",
    "                    status_configuration=status_configuration, verbose=True)\n",
    "    "
   ]
  },
  {
   "cell_type": "markdown",
   "metadata": {},
   "source": [
    "### Check result\n",
    "\n",
    "We can check the history of the objective values by the following command:\n",
    "\n",
    "``obj_vals = np.array([v for k,v in list(invalg.objective_history.items())])``.\n",
    "\n",
    "We can check the final velocity model by the following command:\n",
    "\n",
    "``v_final = result.C``.\n",
    "   \n",
    "\n",
    "Now, let us check the final results."
   ]
  },
  {
   "cell_type": "code",
   "execution_count": 31,
   "metadata": {},
   "outputs": [
    {
     "data": {
      "text/plain": [
       "Text(0.5, 1.0, 'Reconstructed model Slice at \\n x = 540 m, y = 500 m, z = 440 m')"
      ]
     },
     "execution_count": 31,
     "metadata": {},
     "output_type": "execute_result"
    },
    {
     "data": {
      "image/png": "[encoded data removed]",
      "text/plain": [
       "<Figure size 432x288 with 1 Axes>"
      ]
     },
     "metadata": {
      "needs_background": "light"
     },
     "output_type": "display_data"
    },
    {
     "data": {
      "image/png": "[encoded data removed]",
      "text/plain": [
       "<Figure size 432x432 with 3 Axes>"
      ]
     },
     "metadata": {
      "needs_background": "light"
     },
     "output_type": "display_data"
    },
    {
     "data": {
      "image/png": "[encoded data removed]",
      "text/plain": [
       "<Figure size 432x432 with 3 Axes>"
      ]
     },
     "metadata": {
      "needs_background": "light"
     },
     "output_type": "display_data"
    }
   ],
   "source": [
    "    obj_vals = np.array([v for k,v in list(invalg.objective_history.items())])\n",
    "\n",
    "    plt.figure()\n",
    "    plt.semilogy(obj_vals)\n",
    "    plt.xlabel('Iteration')\n",
    "    plt.ylabel('Objective value')\n",
    "    \n",
    "    Cplot = np.reshape(C, n_data)\n",
    "    Cplot = np.transpose(Cplot, (0, 2, 1))\n",
    "    origins = [0.1, 0.1, 0.1]\n",
    "    deltas = [0.02, 0.02, 0.02]\n",
    "    \n",
    "    axis_ticks = [np.array(list(range(0, n_dataplt[0]-5, (n_data[0]-6)//4))), \n",
    "                  np.array(list(range(5, n_dataplt[1]-5, (n_data[1]-11)//4))),\n",
    "                  np.array(list(range(0, n_dataplt[2], (n_data[2]-1)//2)))\n",
    "                 ]\n",
    "    axis_tickslabels = [(axis_ticks[0] * deltas[0] * 1000.0 + origins[0] * 1000.0).astype(int),\n",
    "                        (axis_ticks[1] * deltas[1] * 1000.0 + origins[1] * 1000.0).astype(int),\n",
    "                        (axis_ticks[2] * deltas[2] * 1000.0 + origins[2] * 1000.0).astype(int)\n",
    "                       ]\n",
    "\n",
    "    \n",
    "    plot_3D_panel(Cplot, slice3d=(22, 18, 20),\n",
    "                  axis_label=['x [m]', 'z [m]', 'y [m]'],\n",
    "                  axis_ticks=axis_ticks,\n",
    "                  axis_tickslabels=axis_tickslabels,\n",
    "                  vmin=1.6, vmax=2.2\n",
    "                 )\n",
    "    plt.title('True model Slice at \\n x = 540 m, y = 500 m, z = 440 m')\n",
    "    \n",
    "    Cout = result.C\n",
    "    \n",
    "    Coutplot = np.reshape(Cout, n_data)\n",
    "    Coutplot = np.transpose(Coutplot, (0, 2, 1))\n",
    "    origins = [0.1, 0.1, 0.1]\n",
    "    deltas = [0.02, 0.02, 0.02]\n",
    "    \n",
    "    axis_ticks = [np.array(list(range(0, n_dataplt[0]-5, (n_data[0]-6)//4))), \n",
    "                  np.array(list(range(5, n_dataplt[1]-5, (n_data[1]-11)//4))),\n",
    "                  np.array(list(range(0, n_dataplt[2], (n_data[2]-1)//2)))\n",
    "                 ]\n",
    "    axis_tickslabels = [(axis_ticks[0] * deltas[0] * 1000.0 + origins[0] * 1000.0).astype(int),\n",
    "                        (axis_ticks[1] * deltas[1] * 1000.0 + origins[1] * 1000.0).astype(int),\n",
    "                        (axis_ticks[2] * deltas[2] * 1000.0 + origins[2] * 1000.0).astype(int)\n",
    "                       ]\n",
    "\n",
    "    \n",
    "    plot_3D_panel(Coutplot, slice3d=(22, 18, 20),\n",
    "                  axis_label=['x [m]', 'z [m]', 'y [m]'],\n",
    "                  axis_ticks=axis_ticks,\n",
    "                  axis_tickslabels=axis_tickslabels,\n",
    "                  vmin=1.6, vmax=2.2\n",
    "                 )\n",
    "    plt.title('Reconstructed model Slice at \\n x = 540 m, y = 500 m, z = 440 m')\n",
    "    \n",
    "    \n"
   ]
  }
 ],
 "metadata": {
  "kernelspec": {
   "display_name": "Python 3",
   "language": "python",
   "name": "python3"
  },
  "language_info": {
   "codemirror_mode": {
    "name": "ipython",
    "version": 3
   },
   "file_extension": ".py",
   "mimetype": "text/x-python",
   "name": "python",
   "nbconvert_exporter": "python",
   "pygments_lexer": "ipython3",
   "version": "3.6.7"
  }
 },
 "nbformat": 4,
 "nbformat_minor": 2
}
